{
  "nbformat": 4,
  "nbformat_minor": 0,
  "metadata": {
    "colab": {
      "provenance": [],
      "authorship_tag": "ABX9TyOnXobKcXIoR5eJxL+qGGZY",
      "include_colab_link": true
    },
    "kernelspec": {
      "name": "ir",
      "display_name": "R"
    },
    "language_info": {
      "name": "R"
    }
  },
  "cells": [
    {
      "cell_type": "markdown",
      "metadata": {
        "id": "view-in-github",
        "colab_type": "text"
      },
      "source": [
        "<a href=\"https://colab.research.google.com/github/stefsyrsiri/forbes2000-data-analysis/blob/main/Legal_Data.ipynb\" target=\"_parent\"><img src=\"https://colab.research.google.com/assets/colab-badge.svg\" alt=\"Open In Colab\"/></a>"
      ]
    },
    {
      "cell_type": "code",
      "execution_count": 9,
      "metadata": {
        "colab": {
          "base_uri": "https://localhost:8080/"
        },
        "id": "-jo6vnuY-GvK",
        "outputId": "675697de-5309-4e7c-cc59-9bc5f60ac715"
      },
      "outputs": [
        {
          "output_type": "stream",
          "name": "stdout",
          "text": [
            "'data.frame':\t159 obs. of  8 variables:\n",
            " $ X_id                                : int  1 2 3 4 5 6 7 8 9 10 ...\n",
            " $ Claim.Name                          : chr  \"Valdez, Michael\" \"Caballero, Rosita\" \"Castillo, Angela\" \"Cutean, Nicki\" ...\n",
            " $ Incident.Date                       : chr  \"2015-02-28T00:00:00\" \"2014-06-20T00:00:00\" \"2015-04-02T00:00:00\" \"2015-04-15T00:00:00\" ...\n",
            " $ Department                          : chr  \"Austin Fire Dept\" \"Austin Police Department\" \"Austin Police Department\" \"Austin Police Department\" ...\n",
            " $ Location.of.Incident..if.applicable.: chr  \"Bulebell and Marigold\" \"Webberville\" \"8th Street\" \"2nd Street & Guadalupe\" ...\n",
            " $ Amount                              : num  700 7000 947 1133 13663 ...\n",
            " $ Category                            : chr  \"00 Auto\" \"00 Auto\" \"00 Auto\" \"00 Auto\" ...\n",
            " $ Disposition.Type                    : chr  \"Claim Paid\" \"Claim Paid\" \"Claim Paid\" \"Claim Paid\" ...\n"
          ]
        },
        {
          "output_type": "stream",
          "name": "stderr",
          "text": [
            "The following objects are masked from legal (pos = 3):\n",
            "\n",
            "    Amount, Category, Claim.Name, Department, Disposition.Type,\n",
            "    Incident.Date, Location.of.Incident..if.applicable., X_id\n",
            "\n",
            "\n"
          ]
        }
      ],
      "source": [
        "legal <- read.csv(\"data/claim_settlements_city_of_austin.csv\", header = TRUE, stringsAsFactors = FALSE, )\n",
        "str(legal)\n",
        "attach(legal)\n",
        "legal$X_id <- NULL  # Remove the X_id column"
      ]
    },
    {
      "cell_type": "code",
      "source": [
        "head(legal)"
      ],
      "metadata": {
        "colab": {
          "base_uri": "https://localhost:8080/",
          "height": 286
        },
        "id": "alqMCzda__5Z",
        "outputId": "28df1918-5bcc-4856-cec5-763a04adb75d"
      },
      "execution_count": 5,
      "outputs": [
        {
          "output_type": "display_data",
          "data": {
            "text/html": [
              "<table class=\"dataframe\">\n",
              "<caption>A data.frame: 6 × 8</caption>\n",
              "<thead>\n",
              "\t<tr><th></th><th scope=col>X_id</th><th scope=col>Claim.Name</th><th scope=col>Incident.Date</th><th scope=col>Department</th><th scope=col>Location.of.Incident..if.applicable.</th><th scope=col>Amount</th><th scope=col>Category</th><th scope=col>Disposition.Type</th></tr>\n",
              "\t<tr><th></th><th scope=col>&lt;int&gt;</th><th scope=col>&lt;chr&gt;</th><th scope=col>&lt;chr&gt;</th><th scope=col>&lt;chr&gt;</th><th scope=col>&lt;chr&gt;</th><th scope=col>&lt;dbl&gt;</th><th scope=col>&lt;chr&gt;</th><th scope=col>&lt;chr&gt;</th></tr>\n",
              "</thead>\n",
              "<tbody>\n",
              "\t<tr><th scope=row>1</th><td>1</td><td>Valdez, Michael              </td><td>2015-02-28T00:00:00</td><td>Austin Fire Dept        </td><td>Bulebell and Marigold  </td><td>  700.00</td><td>00 Auto</td><td>Claim Paid</td></tr>\n",
              "\t<tr><th scope=row>2</th><td>2</td><td>Caballero, Rosita            </td><td>2014-06-20T00:00:00</td><td>Austin Police Department</td><td>Webberville            </td><td> 7000.00</td><td>00 Auto</td><td>Claim Paid</td></tr>\n",
              "\t<tr><th scope=row>3</th><td>3</td><td>Castillo, Angela             </td><td>2015-04-02T00:00:00</td><td>Austin Police Department</td><td>8th Street             </td><td>  947.17</td><td>00 Auto</td><td>Claim Paid</td></tr>\n",
              "\t<tr><th scope=row>4</th><td>4</td><td><span style=white-space:pre-wrap>Cutean, Nicki                </span></td><td>2015-04-15T00:00:00</td><td>Austin Police Department</td><td>2nd Street &amp; Guadalupe </td><td> 1133.42</td><td>00 Auto</td><td>Claim Paid</td></tr>\n",
              "\t<tr><th scope=row>5</th><td>5</td><td>Ferrovial/ Toyota Lease Trust</td><td>2015-04-08T00:00:00</td><td>Austin Police Department</td><td>400 N. I35 service road</td><td>13663.31</td><td>00 Auto</td><td>Claim Paid</td></tr>\n",
              "\t<tr><th scope=row>6</th><td>6</td><td><span style=white-space:pre-wrap>Hardwick, Andrew             </span></td><td>2014-12-05T00:00:00</td><td>Austin Police Department</td><td><span style=white-space:pre-wrap>IH35 &amp; Riverside       </span></td><td><span style=white-space:pre-wrap>  565.88</span></td><td>00 Auto</td><td>Claim Paid</td></tr>\n",
              "</tbody>\n",
              "</table>\n"
            ],
            "text/markdown": "\nA data.frame: 6 × 8\n\n| <!--/--> | X_id &lt;int&gt; | Claim.Name &lt;chr&gt; | Incident.Date &lt;chr&gt; | Department &lt;chr&gt; | Location.of.Incident..if.applicable. &lt;chr&gt; | Amount &lt;dbl&gt; | Category &lt;chr&gt; | Disposition.Type &lt;chr&gt; |\n|---|---|---|---|---|---|---|---|---|\n| 1 | 1 | Valdez, Michael               | 2015-02-28T00:00:00 | Austin Fire Dept         | Bulebell and Marigold   |   700.00 | 00 Auto | Claim Paid |\n| 2 | 2 | Caballero, Rosita             | 2014-06-20T00:00:00 | Austin Police Department | Webberville             |  7000.00 | 00 Auto | Claim Paid |\n| 3 | 3 | Castillo, Angela              | 2015-04-02T00:00:00 | Austin Police Department | 8th Street              |   947.17 | 00 Auto | Claim Paid |\n| 4 | 4 | Cutean, Nicki                 | 2015-04-15T00:00:00 | Austin Police Department | 2nd Street &amp; Guadalupe  |  1133.42 | 00 Auto | Claim Paid |\n| 5 | 5 | Ferrovial/ Toyota Lease Trust | 2015-04-08T00:00:00 | Austin Police Department | 400 N. I35 service road | 13663.31 | 00 Auto | Claim Paid |\n| 6 | 6 | Hardwick, Andrew              | 2014-12-05T00:00:00 | Austin Police Department | IH35 &amp; Riverside        |   565.88 | 00 Auto | Claim Paid |\n\n",
            "text/latex": "A data.frame: 6 × 8\n\\begin{tabular}{r|llllllll}\n  & X\\_id & Claim.Name & Incident.Date & Department & Location.of.Incident..if.applicable. & Amount & Category & Disposition.Type\\\\\n  & <int> & <chr> & <chr> & <chr> & <chr> & <dbl> & <chr> & <chr>\\\\\n\\hline\n\t1 & 1 & Valdez, Michael               & 2015-02-28T00:00:00 & Austin Fire Dept         & Bulebell and Marigold   &   700.00 & 00 Auto & Claim Paid\\\\\n\t2 & 2 & Caballero, Rosita             & 2014-06-20T00:00:00 & Austin Police Department & Webberville             &  7000.00 & 00 Auto & Claim Paid\\\\\n\t3 & 3 & Castillo, Angela              & 2015-04-02T00:00:00 & Austin Police Department & 8th Street              &   947.17 & 00 Auto & Claim Paid\\\\\n\t4 & 4 & Cutean, Nicki                 & 2015-04-15T00:00:00 & Austin Police Department & 2nd Street \\& Guadalupe  &  1133.42 & 00 Auto & Claim Paid\\\\\n\t5 & 5 & Ferrovial/ Toyota Lease Trust & 2015-04-08T00:00:00 & Austin Police Department & 400 N. I35 service road & 13663.31 & 00 Auto & Claim Paid\\\\\n\t6 & 6 & Hardwick, Andrew              & 2014-12-05T00:00:00 & Austin Police Department & IH35 \\& Riverside        &   565.88 & 00 Auto & Claim Paid\\\\\n\\end{tabular}\n",
            "text/plain": [
              "  X_id Claim.Name                    Incident.Date      \n",
              "1 1    Valdez, Michael               2015-02-28T00:00:00\n",
              "2 2    Caballero, Rosita             2014-06-20T00:00:00\n",
              "3 3    Castillo, Angela              2015-04-02T00:00:00\n",
              "4 4    Cutean, Nicki                 2015-04-15T00:00:00\n",
              "5 5    Ferrovial/ Toyota Lease Trust 2015-04-08T00:00:00\n",
              "6 6    Hardwick, Andrew              2014-12-05T00:00:00\n",
              "  Department               Location.of.Incident..if.applicable. Amount  \n",
              "1 Austin Fire Dept         Bulebell and Marigold                  700.00\n",
              "2 Austin Police Department Webberville                           7000.00\n",
              "3 Austin Police Department 8th Street                             947.17\n",
              "4 Austin Police Department 2nd Street & Guadalupe                1133.42\n",
              "5 Austin Police Department 400 N. I35 service road              13663.31\n",
              "6 Austin Police Department IH35 & Riverside                       565.88\n",
              "  Category Disposition.Type\n",
              "1 00 Auto  Claim Paid      \n",
              "2 00 Auto  Claim Paid      \n",
              "3 00 Auto  Claim Paid      \n",
              "4 00 Auto  Claim Paid      \n",
              "5 00 Auto  Claim Paid      \n",
              "6 00 Auto  Claim Paid      "
            ]
          },
          "metadata": {}
        }
      ]
    },
    {
      "cell_type": "code",
      "source": [
        "Incident.Date <- as.POSIXlt(Incident.Date, tz = \"GMT\",\"%m/%d/%Y %I:%M:%S %p\")\n",
        "head(Incident.Date,10); class(Incident.Date)"
      ],
      "metadata": {
        "colab": {
          "base_uri": "https://localhost:8080/",
          "height": 52
        },
        "id": "1vp0ExBrBDUQ",
        "outputId": "cb08d9c8-fb5e-4e4a-e8d1-fc5d122988f1"
      },
      "execution_count": 10,
      "outputs": [
        {
          "output_type": "display_data",
          "data": {
            "text/plain": [
              " [1] NA NA NA NA NA NA NA NA NA NA"
            ]
          },
          "metadata": {}
        },
        {
          "output_type": "display_data",
          "data": {
            "text/html": [
              "<style>\n",
              ".list-inline {list-style: none; margin:0; padding: 0}\n",
              ".list-inline>li {display: inline-block}\n",
              ".list-inline>li:not(:last-child)::after {content: \"\\00b7\"; padding: 0 .5ex}\n",
              "</style>\n",
              "<ol class=list-inline><li>'POSIXlt'</li><li>'POSIXt'</li></ol>\n"
            ],
            "text/markdown": "1. 'POSIXlt'\n2. 'POSIXt'\n\n\n",
            "text/latex": "\\begin{enumerate*}\n\\item 'POSIXlt'\n\\item 'POSIXt'\n\\end{enumerate*}\n",
            "text/plain": [
              "[1] \"POSIXlt\" \"POSIXt\" "
            ]
          },
          "metadata": {}
        }
      ]
    },
    {
      "cell_type": "code",
      "source": [
        "range(Incident.Date)\n",
        "\n",
        "days <- as.numeric(max(Incident.Date) - min(Incident.Date))\n",
        "months <- round(days/30)\n",
        "hours <- days*24\n",
        "cat(\"The total time period of recorded incidents is\",\n",
        "    months, \"months or\", days, \"days or\", hours, \"hours.\")"
      ],
      "metadata": {
        "colab": {
          "base_uri": "https://localhost:8080/",
          "height": 52
        },
        "id": "wUi5wzayBhLf",
        "outputId": "7f14448e-8a8b-4f51-b6b3-66158de1adeb"
      },
      "execution_count": 11,
      "outputs": [
        {
          "output_type": "display_data",
          "data": {
            "text/plain": [
              "[1] NA NA"
            ]
          },
          "metadata": {}
        },
        {
          "output_type": "stream",
          "name": "stdout",
          "text": [
            "The total time period of recorded incidents is NA months or NA days or NA hours."
          ]
        }
      ]
    },
    {
      "cell_type": "code",
      "source": [
        "median(Incident.Date)"
      ],
      "metadata": {
        "colab": {
          "base_uri": "https://localhost:8080/",
          "height": 34
        },
        "id": "ja0qV51IBmEv",
        "outputId": "ced10258-28d7-4b5d-cce0-f85be5e8fcf0"
      },
      "execution_count": 12,
      "outputs": [
        {
          "output_type": "display_data",
          "data": {
            "text/plain": [
              "[1] NA"
            ]
          },
          "metadata": {}
        }
      ]
    },
    {
      "cell_type": "code",
      "source": [
        "Incident.Date[round(length(Incident.Date)/2)]"
      ],
      "metadata": {
        "colab": {
          "base_uri": "https://localhost:8080/",
          "height": 34
        },
        "id": "v8Bhv-zABpGP",
        "outputId": "189b8a58-b06c-497d-c491-d031f1094105"
      },
      "execution_count": 13,
      "outputs": [
        {
          "output_type": "display_data",
          "data": {
            "text/plain": [
              "[1] NA"
            ]
          },
          "metadata": {}
        }
      ]
    },
    {
      "cell_type": "code",
      "source": [
        "which.max(table(factor(Incident.Date)))\n",
        "table(factor(Incident.Date))[\"2014-08-28\"]"
      ],
      "metadata": {
        "colab": {
          "base_uri": "https://localhost:8080/",
          "height": 34
        },
        "id": "MI9WRiaSBr9_",
        "outputId": "fe5b444c-3b22-4e17-c5da-9d91beb8b376"
      },
      "execution_count": 14,
      "outputs": [
        {
          "output_type": "display_data",
          "data": {
            "text/html": [],
            "text/markdown": "",
            "text/latex": "",
            "text/plain": [
              "integer(0)"
            ]
          },
          "metadata": {}
        },
        {
          "output_type": "display_data",
          "data": {
            "text/html": [
              "&lt;NA&gt;"
            ],
            "text/markdown": "&lt;NA&gt;",
            "text/latex": "<NA>",
            "text/plain": [
              "[1] NA"
            ]
          },
          "metadata": {}
        }
      ]
    },
    {
      "cell_type": "code",
      "source": [
        "ampm <- factor(ifelse(Incident.Date$hour < 12, \"AM\",\"PM\"))\n",
        "ampm"
      ],
      "metadata": {
        "colab": {
          "base_uri": "https://localhost:8080/",
          "height": 139
        },
        "id": "OkxxXKZVBw7e",
        "outputId": "3dc0f4ef-59e4-48a2-9b51-5ae7e651f809"
      },
      "execution_count": 15,
      "outputs": [
        {
          "output_type": "display_data",
          "data": {
            "text/html": [
              "<style>\n",
              ".list-inline {list-style: none; margin:0; padding: 0}\n",
              ".list-inline>li {display: inline-block}\n",
              ".list-inline>li:not(:last-child)::after {content: \"\\00b7\"; padding: 0 .5ex}\n",
              "</style>\n",
              "<ol class=list-inline><li>&lt;NA&gt;</li><li>&lt;NA&gt;</li><li>&lt;NA&gt;</li><li>&lt;NA&gt;</li><li>&lt;NA&gt;</li><li>&lt;NA&gt;</li><li>&lt;NA&gt;</li><li>&lt;NA&gt;</li><li>&lt;NA&gt;</li><li>&lt;NA&gt;</li><li>&lt;NA&gt;</li><li>&lt;NA&gt;</li><li>&lt;NA&gt;</li><li>&lt;NA&gt;</li><li>&lt;NA&gt;</li><li>&lt;NA&gt;</li><li>&lt;NA&gt;</li><li>&lt;NA&gt;</li><li>&lt;NA&gt;</li><li>&lt;NA&gt;</li><li>&lt;NA&gt;</li><li>&lt;NA&gt;</li><li>&lt;NA&gt;</li><li>&lt;NA&gt;</li><li>&lt;NA&gt;</li><li>&lt;NA&gt;</li><li>&lt;NA&gt;</li><li>&lt;NA&gt;</li><li>&lt;NA&gt;</li><li>&lt;NA&gt;</li><li>&lt;NA&gt;</li><li>&lt;NA&gt;</li><li>&lt;NA&gt;</li><li>&lt;NA&gt;</li><li>&lt;NA&gt;</li><li>&lt;NA&gt;</li><li>&lt;NA&gt;</li><li>&lt;NA&gt;</li><li>&lt;NA&gt;</li><li>&lt;NA&gt;</li><li>&lt;NA&gt;</li><li>&lt;NA&gt;</li><li>&lt;NA&gt;</li><li>&lt;NA&gt;</li><li>&lt;NA&gt;</li><li>&lt;NA&gt;</li><li>&lt;NA&gt;</li><li>&lt;NA&gt;</li><li>&lt;NA&gt;</li><li>&lt;NA&gt;</li><li>&lt;NA&gt;</li><li>&lt;NA&gt;</li><li>&lt;NA&gt;</li><li>&lt;NA&gt;</li><li>&lt;NA&gt;</li><li>&lt;NA&gt;</li><li>&lt;NA&gt;</li><li>&lt;NA&gt;</li><li>&lt;NA&gt;</li><li>&lt;NA&gt;</li><li>&lt;NA&gt;</li><li>&lt;NA&gt;</li><li>&lt;NA&gt;</li><li>&lt;NA&gt;</li><li>&lt;NA&gt;</li><li>&lt;NA&gt;</li><li>&lt;NA&gt;</li><li>&lt;NA&gt;</li><li>&lt;NA&gt;</li><li>&lt;NA&gt;</li><li>&lt;NA&gt;</li><li>&lt;NA&gt;</li><li>&lt;NA&gt;</li><li>&lt;NA&gt;</li><li>&lt;NA&gt;</li><li>&lt;NA&gt;</li><li>&lt;NA&gt;</li><li>&lt;NA&gt;</li><li>&lt;NA&gt;</li><li>&lt;NA&gt;</li><li>&lt;NA&gt;</li><li>&lt;NA&gt;</li><li>&lt;NA&gt;</li><li>&lt;NA&gt;</li><li>&lt;NA&gt;</li><li>&lt;NA&gt;</li><li>&lt;NA&gt;</li><li>&lt;NA&gt;</li><li>&lt;NA&gt;</li><li>&lt;NA&gt;</li><li>&lt;NA&gt;</li><li>&lt;NA&gt;</li><li>&lt;NA&gt;</li><li>&lt;NA&gt;</li><li>&lt;NA&gt;</li><li>&lt;NA&gt;</li><li>&lt;NA&gt;</li><li>&lt;NA&gt;</li><li>&lt;NA&gt;</li><li>&lt;NA&gt;</li><li>&lt;NA&gt;</li><li>&lt;NA&gt;</li><li>&lt;NA&gt;</li><li>&lt;NA&gt;</li><li>&lt;NA&gt;</li><li>&lt;NA&gt;</li><li>&lt;NA&gt;</li><li>&lt;NA&gt;</li><li>&lt;NA&gt;</li><li>&lt;NA&gt;</li><li>&lt;NA&gt;</li><li>&lt;NA&gt;</li><li>&lt;NA&gt;</li><li>&lt;NA&gt;</li><li>&lt;NA&gt;</li><li>&lt;NA&gt;</li><li>&lt;NA&gt;</li><li>&lt;NA&gt;</li><li>&lt;NA&gt;</li><li>&lt;NA&gt;</li><li>&lt;NA&gt;</li><li>&lt;NA&gt;</li><li>&lt;NA&gt;</li><li>&lt;NA&gt;</li><li>&lt;NA&gt;</li><li>&lt;NA&gt;</li><li>&lt;NA&gt;</li><li>&lt;NA&gt;</li><li>&lt;NA&gt;</li><li>&lt;NA&gt;</li><li>&lt;NA&gt;</li><li>&lt;NA&gt;</li><li>&lt;NA&gt;</li><li>&lt;NA&gt;</li><li>&lt;NA&gt;</li><li>&lt;NA&gt;</li><li>&lt;NA&gt;</li><li>&lt;NA&gt;</li><li>&lt;NA&gt;</li><li>&lt;NA&gt;</li><li>&lt;NA&gt;</li><li>&lt;NA&gt;</li><li>&lt;NA&gt;</li><li>&lt;NA&gt;</li><li>&lt;NA&gt;</li><li>&lt;NA&gt;</li><li>&lt;NA&gt;</li><li>&lt;NA&gt;</li><li>&lt;NA&gt;</li><li>&lt;NA&gt;</li><li>&lt;NA&gt;</li><li>&lt;NA&gt;</li><li>&lt;NA&gt;</li><li>&lt;NA&gt;</li><li>&lt;NA&gt;</li><li>&lt;NA&gt;</li><li>&lt;NA&gt;</li><li>&lt;NA&gt;</li><li>&lt;NA&gt;</li></ol>\n",
              "\n",
              "<details>\n",
              "\t<summary style=display:list-item;cursor:pointer>\n",
              "\t\t<strong>Levels</strong>:\n",
              "\t</summary>\n",
              "\t\n",
              "</details>"
            ],
            "text/markdown": "1. &lt;NA&gt;\n2. &lt;NA&gt;\n3. &lt;NA&gt;\n4. &lt;NA&gt;\n5. &lt;NA&gt;\n6. &lt;NA&gt;\n7. &lt;NA&gt;\n8. &lt;NA&gt;\n9. &lt;NA&gt;\n10. &lt;NA&gt;\n11. &lt;NA&gt;\n12. &lt;NA&gt;\n13. &lt;NA&gt;\n14. &lt;NA&gt;\n15. &lt;NA&gt;\n16. &lt;NA&gt;\n17. &lt;NA&gt;\n18. &lt;NA&gt;\n19. &lt;NA&gt;\n20. &lt;NA&gt;\n21. &lt;NA&gt;\n22. &lt;NA&gt;\n23. &lt;NA&gt;\n24. &lt;NA&gt;\n25. &lt;NA&gt;\n26. &lt;NA&gt;\n27. &lt;NA&gt;\n28. &lt;NA&gt;\n29. &lt;NA&gt;\n30. &lt;NA&gt;\n31. &lt;NA&gt;\n32. &lt;NA&gt;\n33. &lt;NA&gt;\n34. &lt;NA&gt;\n35. &lt;NA&gt;\n36. &lt;NA&gt;\n37. &lt;NA&gt;\n38. &lt;NA&gt;\n39. &lt;NA&gt;\n40. &lt;NA&gt;\n41. &lt;NA&gt;\n42. &lt;NA&gt;\n43. &lt;NA&gt;\n44. &lt;NA&gt;\n45. &lt;NA&gt;\n46. &lt;NA&gt;\n47. &lt;NA&gt;\n48. &lt;NA&gt;\n49. &lt;NA&gt;\n50. &lt;NA&gt;\n51. &lt;NA&gt;\n52. &lt;NA&gt;\n53. &lt;NA&gt;\n54. &lt;NA&gt;\n55. &lt;NA&gt;\n56. &lt;NA&gt;\n57. &lt;NA&gt;\n58. &lt;NA&gt;\n59. &lt;NA&gt;\n60. &lt;NA&gt;\n61. &lt;NA&gt;\n62. &lt;NA&gt;\n63. &lt;NA&gt;\n64. &lt;NA&gt;\n65. &lt;NA&gt;\n66. &lt;NA&gt;\n67. &lt;NA&gt;\n68. &lt;NA&gt;\n69. &lt;NA&gt;\n70. &lt;NA&gt;\n71. &lt;NA&gt;\n72. &lt;NA&gt;\n73. &lt;NA&gt;\n74. &lt;NA&gt;\n75. &lt;NA&gt;\n76. &lt;NA&gt;\n77. &lt;NA&gt;\n78. &lt;NA&gt;\n79. &lt;NA&gt;\n80. &lt;NA&gt;\n81. &lt;NA&gt;\n82. &lt;NA&gt;\n83. &lt;NA&gt;\n84. &lt;NA&gt;\n85. &lt;NA&gt;\n86. &lt;NA&gt;\n87. &lt;NA&gt;\n88. &lt;NA&gt;\n89. &lt;NA&gt;\n90. &lt;NA&gt;\n91. &lt;NA&gt;\n92. &lt;NA&gt;\n93. &lt;NA&gt;\n94. &lt;NA&gt;\n95. &lt;NA&gt;\n96. &lt;NA&gt;\n97. &lt;NA&gt;\n98. &lt;NA&gt;\n99. &lt;NA&gt;\n100. &lt;NA&gt;\n101. &lt;NA&gt;\n102. &lt;NA&gt;\n103. &lt;NA&gt;\n104. &lt;NA&gt;\n105. &lt;NA&gt;\n106. &lt;NA&gt;\n107. &lt;NA&gt;\n108. &lt;NA&gt;\n109. &lt;NA&gt;\n110. &lt;NA&gt;\n111. &lt;NA&gt;\n112. &lt;NA&gt;\n113. &lt;NA&gt;\n114. &lt;NA&gt;\n115. &lt;NA&gt;\n116. &lt;NA&gt;\n117. &lt;NA&gt;\n118. &lt;NA&gt;\n119. &lt;NA&gt;\n120. &lt;NA&gt;\n121. &lt;NA&gt;\n122. &lt;NA&gt;\n123. &lt;NA&gt;\n124. &lt;NA&gt;\n125. &lt;NA&gt;\n126. &lt;NA&gt;\n127. &lt;NA&gt;\n128. &lt;NA&gt;\n129. &lt;NA&gt;\n130. &lt;NA&gt;\n131. &lt;NA&gt;\n132. &lt;NA&gt;\n133. &lt;NA&gt;\n134. &lt;NA&gt;\n135. &lt;NA&gt;\n136. &lt;NA&gt;\n137. &lt;NA&gt;\n138. &lt;NA&gt;\n139. &lt;NA&gt;\n140. &lt;NA&gt;\n141. &lt;NA&gt;\n142. &lt;NA&gt;\n143. &lt;NA&gt;\n144. &lt;NA&gt;\n145. &lt;NA&gt;\n146. &lt;NA&gt;\n147. &lt;NA&gt;\n148. &lt;NA&gt;\n149. &lt;NA&gt;\n150. &lt;NA&gt;\n151. &lt;NA&gt;\n152. &lt;NA&gt;\n153. &lt;NA&gt;\n154. &lt;NA&gt;\n155. &lt;NA&gt;\n156. &lt;NA&gt;\n157. &lt;NA&gt;\n158. &lt;NA&gt;\n159. &lt;NA&gt;\n\n\n\n**Levels**: ",
            "text/latex": "\\begin{enumerate*}\n\\item <NA>\n\\item <NA>\n\\item <NA>\n\\item <NA>\n\\item <NA>\n\\item <NA>\n\\item <NA>\n\\item <NA>\n\\item <NA>\n\\item <NA>\n\\item <NA>\n\\item <NA>\n\\item <NA>\n\\item <NA>\n\\item <NA>\n\\item <NA>\n\\item <NA>\n\\item <NA>\n\\item <NA>\n\\item <NA>\n\\item <NA>\n\\item <NA>\n\\item <NA>\n\\item <NA>\n\\item <NA>\n\\item <NA>\n\\item <NA>\n\\item <NA>\n\\item <NA>\n\\item <NA>\n\\item <NA>\n\\item <NA>\n\\item <NA>\n\\item <NA>\n\\item <NA>\n\\item <NA>\n\\item <NA>\n\\item <NA>\n\\item <NA>\n\\item <NA>\n\\item <NA>\n\\item <NA>\n\\item <NA>\n\\item <NA>\n\\item <NA>\n\\item <NA>\n\\item <NA>\n\\item <NA>\n\\item <NA>\n\\item <NA>\n\\item <NA>\n\\item <NA>\n\\item <NA>\n\\item <NA>\n\\item <NA>\n\\item <NA>\n\\item <NA>\n\\item <NA>\n\\item <NA>\n\\item <NA>\n\\item <NA>\n\\item <NA>\n\\item <NA>\n\\item <NA>\n\\item <NA>\n\\item <NA>\n\\item <NA>\n\\item <NA>\n\\item <NA>\n\\item <NA>\n\\item <NA>\n\\item <NA>\n\\item <NA>\n\\item <NA>\n\\item <NA>\n\\item <NA>\n\\item <NA>\n\\item <NA>\n\\item <NA>\n\\item <NA>\n\\item <NA>\n\\item <NA>\n\\item <NA>\n\\item <NA>\n\\item <NA>\n\\item <NA>\n\\item <NA>\n\\item <NA>\n\\item <NA>\n\\item <NA>\n\\item <NA>\n\\item <NA>\n\\item <NA>\n\\item <NA>\n\\item <NA>\n\\item <NA>\n\\item <NA>\n\\item <NA>\n\\item <NA>\n\\item <NA>\n\\item <NA>\n\\item <NA>\n\\item <NA>\n\\item <NA>\n\\item <NA>\n\\item <NA>\n\\item <NA>\n\\item <NA>\n\\item <NA>\n\\item <NA>\n\\item <NA>\n\\item <NA>\n\\item <NA>\n\\item <NA>\n\\item <NA>\n\\item <NA>\n\\item <NA>\n\\item <NA>\n\\item <NA>\n\\item <NA>\n\\item <NA>\n\\item <NA>\n\\item <NA>\n\\item <NA>\n\\item <NA>\n\\item <NA>\n\\item <NA>\n\\item <NA>\n\\item <NA>\n\\item <NA>\n\\item <NA>\n\\item <NA>\n\\item <NA>\n\\item <NA>\n\\item <NA>\n\\item <NA>\n\\item <NA>\n\\item <NA>\n\\item <NA>\n\\item <NA>\n\\item <NA>\n\\item <NA>\n\\item <NA>\n\\item <NA>\n\\item <NA>\n\\item <NA>\n\\item <NA>\n\\item <NA>\n\\item <NA>\n\\item <NA>\n\\item <NA>\n\\item <NA>\n\\item <NA>\n\\item <NA>\n\\item <NA>\n\\item <NA>\n\\item <NA>\n\\item <NA>\n\\item <NA>\n\\end{enumerate*}\n\n\\emph{Levels}: ",
            "text/plain": [
              "  [1] <NA> <NA> <NA> <NA> <NA> <NA> <NA> <NA> <NA> <NA> <NA> <NA> <NA> <NA> <NA>\n",
              " [16] <NA> <NA> <NA> <NA> <NA> <NA> <NA> <NA> <NA> <NA> <NA> <NA> <NA> <NA> <NA>\n",
              " [31] <NA> <NA> <NA> <NA> <NA> <NA> <NA> <NA> <NA> <NA> <NA> <NA> <NA> <NA> <NA>\n",
              " [46] <NA> <NA> <NA> <NA> <NA> <NA> <NA> <NA> <NA> <NA> <NA> <NA> <NA> <NA> <NA>\n",
              " [61] <NA> <NA> <NA> <NA> <NA> <NA> <NA> <NA> <NA> <NA> <NA> <NA> <NA> <NA> <NA>\n",
              " [76] <NA> <NA> <NA> <NA> <NA> <NA> <NA> <NA> <NA> <NA> <NA> <NA> <NA> <NA> <NA>\n",
              " [91] <NA> <NA> <NA> <NA> <NA> <NA> <NA> <NA> <NA> <NA> <NA> <NA> <NA> <NA> <NA>\n",
              "[106] <NA> <NA> <NA> <NA> <NA> <NA> <NA> <NA> <NA> <NA> <NA> <NA> <NA> <NA> <NA>\n",
              "[121] <NA> <NA> <NA> <NA> <NA> <NA> <NA> <NA> <NA> <NA> <NA> <NA> <NA> <NA> <NA>\n",
              "[136] <NA> <NA> <NA> <NA> <NA> <NA> <NA> <NA> <NA> <NA> <NA> <NA> <NA> <NA> <NA>\n",
              "[151] <NA> <NA> <NA> <NA> <NA> <NA> <NA> <NA> <NA>\n",
              "Levels: "
            ]
          },
          "metadata": {}
        }
      ]
    },
    {
      "cell_type": "code",
      "source": [
        "levels(ampm)[2] <- \"PM\"\n",
        "levels(ampm)\n",
        "which.max(table(ampm))\n",
        "which.max(table(Department, ampm))\n",
        "rownames(table(Department, ampm))[3]\n",
        "addmargins(table(Department, ampm))\n",
        "round(addmargins(prop.table(table(Department, ampm)))*100,1)"
      ],
      "metadata": {
        "colab": {
          "base_uri": "https://localhost:8080/",
          "height": 1000
        },
        "id": "3yCvG-EWB3LP",
        "outputId": "d64cd3a7-f2e7-4236-a88c-8de1d19b8d7a"
      },
      "execution_count": 16,
      "outputs": [
        {
          "output_type": "display_data",
          "data": {
            "text/html": [
              "'PM'"
            ],
            "text/markdown": "'PM'",
            "text/latex": "'PM'",
            "text/plain": [
              "[1] \"PM\""
            ]
          },
          "metadata": {}
        },
        {
          "output_type": "display_data",
          "data": {
            "text/html": [
              "<strong>PM:</strong> 1"
            ],
            "text/markdown": "**PM:** 1",
            "text/latex": "\\textbf{PM:} 1",
            "text/plain": [
              "PM \n",
              " 1 "
            ]
          },
          "metadata": {}
        },
        {
          "output_type": "display_data",
          "data": {
            "text/html": [
              "1"
            ],
            "text/markdown": "1",
            "text/latex": "1",
            "text/plain": [
              "[1] 1"
            ]
          },
          "metadata": {}
        },
        {
          "output_type": "display_data",
          "data": {
            "text/html": [
              "'Austin Police Department'"
            ],
            "text/markdown": "'Austin Police Department'",
            "text/latex": "'Austin Police Department'",
            "text/plain": [
              "[1] \"Austin Police Department\""
            ]
          },
          "metadata": {}
        },
        {
          "output_type": "display_data",
          "data": {
            "text/html": [
              "<table class=\"dataframe\">\n",
              "<caption>A table: 16 × 2 of type dbl</caption>\n",
              "<thead>\n",
              "\t<tr><th></th><th scope=col>PM</th><th scope=col>Sum</th></tr>\n",
              "</thead>\n",
              "<tbody>\n",
              "\t<tr><th scope=row>(WPD) Watershed Protection and Development Review</th><td>0</td><td>0</td></tr>\n",
              "\t<tr><th scope=row>Austin Fire Dept</th><td>0</td><td>0</td></tr>\n",
              "\t<tr><th scope=row>Austin Police Department</th><td>0</td><td>0</td></tr>\n",
              "\t<tr><th scope=row>Austin Resource Recovery</th><td>0</td><td>0</td></tr>\n",
              "\t<tr><th scope=row>Austin Water</th><td>0</td><td>0</td></tr>\n",
              "\t<tr><th scope=row>Aviation</th><td>0</td><td>0</td></tr>\n",
              "\t<tr><th scope=row>Code Compliance Department</th><td>0</td><td>0</td></tr>\n",
              "\t<tr><th scope=row>EMS</th><td>0</td><td>0</td></tr>\n",
              "\t<tr><th scope=row>FSD - Building Services</th><td>0</td><td>0</td></tr>\n",
              "\t<tr><th scope=row>Health and Human Services</th><td>0</td><td>0</td></tr>\n",
              "\t<tr><th scope=row>Library</th><td>0</td><td>0</td></tr>\n",
              "\t<tr><th scope=row>Parks and Recreation</th><td>0</td><td>0</td></tr>\n",
              "\t<tr><th scope=row>Planning and Development Review</th><td>0</td><td>0</td></tr>\n",
              "\t<tr><th scope=row>Public Works</th><td>0</td><td>0</td></tr>\n",
              "\t<tr><th scope=row>Transportation</th><td>0</td><td>0</td></tr>\n",
              "\t<tr><th scope=row>Sum</th><td>0</td><td>0</td></tr>\n",
              "</tbody>\n",
              "</table>\n"
            ],
            "text/markdown": "\nA table: 16 × 2 of type dbl\n\n| <!--/--> | PM | Sum |\n|---|---|---|\n| (WPD) Watershed Protection and Development Review | 0 | 0 |\n| Austin Fire Dept | 0 | 0 |\n| Austin Police Department | 0 | 0 |\n| Austin Resource Recovery | 0 | 0 |\n| Austin Water | 0 | 0 |\n| Aviation | 0 | 0 |\n| Code Compliance Department | 0 | 0 |\n| EMS | 0 | 0 |\n| FSD - Building Services | 0 | 0 |\n| Health and Human Services | 0 | 0 |\n| Library | 0 | 0 |\n| Parks and Recreation | 0 | 0 |\n| Planning and Development Review | 0 | 0 |\n| Public Works | 0 | 0 |\n| Transportation | 0 | 0 |\n| Sum | 0 | 0 |\n\n",
            "text/latex": "A table: 16 × 2 of type dbl\n\\begin{tabular}{r|ll}\n  & PM & Sum\\\\\n\\hline\n\t(WPD) Watershed Protection and Development Review & 0 & 0\\\\\n\tAustin Fire Dept & 0 & 0\\\\\n\tAustin Police Department & 0 & 0\\\\\n\tAustin Resource Recovery & 0 & 0\\\\\n\tAustin Water & 0 & 0\\\\\n\tAviation & 0 & 0\\\\\n\tCode Compliance Department & 0 & 0\\\\\n\tEMS & 0 & 0\\\\\n\tFSD - Building Services & 0 & 0\\\\\n\tHealth and Human Services & 0 & 0\\\\\n\tLibrary & 0 & 0\\\\\n\tParks and Recreation & 0 & 0\\\\\n\tPlanning and Development Review & 0 & 0\\\\\n\tPublic Works & 0 & 0\\\\\n\tTransportation & 0 & 0\\\\\n\tSum & 0 & 0\\\\\n\\end{tabular}\n",
            "text/plain": [
              "                                                   ampm\n",
              "Department                                          PM Sum\n",
              "  (WPD) Watershed Protection and Development Review 0  0  \n",
              "  Austin Fire Dept                                  0  0  \n",
              "  Austin Police Department                          0  0  \n",
              "  Austin Resource Recovery                          0  0  \n",
              "  Austin Water                                      0  0  \n",
              "  Aviation                                          0  0  \n",
              "  Code Compliance Department                        0  0  \n",
              "  EMS                                               0  0  \n",
              "  FSD - Building Services                           0  0  \n",
              "  Health and Human Services                         0  0  \n",
              "  Library                                           0  0  \n",
              "  Parks and Recreation                              0  0  \n",
              "  Planning and Development Review                   0  0  \n",
              "  Public Works                                      0  0  \n",
              "  Transportation                                    0  0  \n",
              "  Sum                                               0  0  "
            ]
          },
          "metadata": {}
        },
        {
          "output_type": "display_data",
          "data": {
            "text/html": [
              "<table class=\"dataframe\">\n",
              "<caption>A table: 16 × 2 of type dbl</caption>\n",
              "<thead>\n",
              "\t<tr><th></th><th scope=col>PM</th><th scope=col>Sum</th></tr>\n",
              "</thead>\n",
              "<tbody>\n",
              "\t<tr><th scope=row>(WPD) Watershed Protection and Development Review</th><td>NaN</td><td>NaN</td></tr>\n",
              "\t<tr><th scope=row>Austin Fire Dept</th><td>NaN</td><td>NaN</td></tr>\n",
              "\t<tr><th scope=row>Austin Police Department</th><td>NaN</td><td>NaN</td></tr>\n",
              "\t<tr><th scope=row>Austin Resource Recovery</th><td>NaN</td><td>NaN</td></tr>\n",
              "\t<tr><th scope=row>Austin Water</th><td>NaN</td><td>NaN</td></tr>\n",
              "\t<tr><th scope=row>Aviation</th><td>NaN</td><td>NaN</td></tr>\n",
              "\t<tr><th scope=row>Code Compliance Department</th><td>NaN</td><td>NaN</td></tr>\n",
              "\t<tr><th scope=row>EMS</th><td>NaN</td><td>NaN</td></tr>\n",
              "\t<tr><th scope=row>FSD - Building Services</th><td>NaN</td><td>NaN</td></tr>\n",
              "\t<tr><th scope=row>Health and Human Services</th><td>NaN</td><td>NaN</td></tr>\n",
              "\t<tr><th scope=row>Library</th><td>NaN</td><td>NaN</td></tr>\n",
              "\t<tr><th scope=row>Parks and Recreation</th><td>NaN</td><td>NaN</td></tr>\n",
              "\t<tr><th scope=row>Planning and Development Review</th><td>NaN</td><td>NaN</td></tr>\n",
              "\t<tr><th scope=row>Public Works</th><td>NaN</td><td>NaN</td></tr>\n",
              "\t<tr><th scope=row>Transportation</th><td>NaN</td><td>NaN</td></tr>\n",
              "\t<tr><th scope=row>Sum</th><td>NaN</td><td>NaN</td></tr>\n",
              "</tbody>\n",
              "</table>\n"
            ],
            "text/markdown": "\nA table: 16 × 2 of type dbl\n\n| <!--/--> | PM | Sum |\n|---|---|---|\n| (WPD) Watershed Protection and Development Review | NaN | NaN |\n| Austin Fire Dept | NaN | NaN |\n| Austin Police Department | NaN | NaN |\n| Austin Resource Recovery | NaN | NaN |\n| Austin Water | NaN | NaN |\n| Aviation | NaN | NaN |\n| Code Compliance Department | NaN | NaN |\n| EMS | NaN | NaN |\n| FSD - Building Services | NaN | NaN |\n| Health and Human Services | NaN | NaN |\n| Library | NaN | NaN |\n| Parks and Recreation | NaN | NaN |\n| Planning and Development Review | NaN | NaN |\n| Public Works | NaN | NaN |\n| Transportation | NaN | NaN |\n| Sum | NaN | NaN |\n\n",
            "text/latex": "A table: 16 × 2 of type dbl\n\\begin{tabular}{r|ll}\n  & PM & Sum\\\\\n\\hline\n\t(WPD) Watershed Protection and Development Review & NaN & NaN\\\\\n\tAustin Fire Dept & NaN & NaN\\\\\n\tAustin Police Department & NaN & NaN\\\\\n\tAustin Resource Recovery & NaN & NaN\\\\\n\tAustin Water & NaN & NaN\\\\\n\tAviation & NaN & NaN\\\\\n\tCode Compliance Department & NaN & NaN\\\\\n\tEMS & NaN & NaN\\\\\n\tFSD - Building Services & NaN & NaN\\\\\n\tHealth and Human Services & NaN & NaN\\\\\n\tLibrary & NaN & NaN\\\\\n\tParks and Recreation & NaN & NaN\\\\\n\tPlanning and Development Review & NaN & NaN\\\\\n\tPublic Works & NaN & NaN\\\\\n\tTransportation & NaN & NaN\\\\\n\tSum & NaN & NaN\\\\\n\\end{tabular}\n",
            "text/plain": [
              "                                                   ampm\n",
              "Department                                          PM  Sum\n",
              "  (WPD) Watershed Protection and Development Review NaN NaN\n",
              "  Austin Fire Dept                                  NaN NaN\n",
              "  Austin Police Department                          NaN NaN\n",
              "  Austin Resource Recovery                          NaN NaN\n",
              "  Austin Water                                      NaN NaN\n",
              "  Aviation                                          NaN NaN\n",
              "  Code Compliance Department                        NaN NaN\n",
              "  EMS                                               NaN NaN\n",
              "  FSD - Building Services                           NaN NaN\n",
              "  Health and Human Services                         NaN NaN\n",
              "  Library                                           NaN NaN\n",
              "  Parks and Recreation                              NaN NaN\n",
              "  Planning and Development Review                   NaN NaN\n",
              "  Public Works                                      NaN NaN\n",
              "  Transportation                                    NaN NaN\n",
              "  Sum                                               NaN NaN"
            ]
          },
          "metadata": {}
        }
      ]
    },
    {
      "cell_type": "code",
      "source": [
        "Department <- factor(Department)\n",
        "levels(Department)[1] <- \"WPD\"\n",
        "table <- sort((table(Department, useNA = \"ifany\")))\n",
        "names(dimnames(table)) <- \"Department\"\n",
        "\n",
        "length(table)\n",
        "addmargins(table)\n",
        "\n",
        "par(mar = c(7,15,10,5), bg=\"linen\")\n",
        "barplot(table,\n",
        "    #orientation\n",
        "        horiz = TRUE,\n",
        "        las = 1,\n",
        "        xlim = c(0, max(table(Department))),\n",
        "        ylim = range(pretty(c(0, Department))),\n",
        "    #text\n",
        "        main = \"Recorded incidents\\nper Department\",\n",
        "        sub = \"City of Austin, 2011 - 2015\",\n",
        "    #size\n",
        "        cex.main = 1,\n",
        "    #colors\n",
        "        col.axis = \"gray15\",\n",
        "        col.main = \"gray15\",\n",
        "        col.sub = \"gray15\",\n",
        "        col = \"gray\",\n",
        "        border = \"gray\"\n",
        "        )\n",
        "\n",
        "grid(nx = NULL, ny = NA, lwd = 2, lty = 2, col = \"gray60\")"
      ],
      "metadata": {
        "colab": {
          "base_uri": "https://localhost:8080/",
          "height": 749
        },
        "id": "tRS3eAW4B6gS",
        "outputId": "b63e55c4-6612-45eb-c675-ed0eef68a5b8"
      },
      "execution_count": 19,
      "outputs": [
        {
          "output_type": "display_data",
          "data": {
            "text/html": [
              "15"
            ],
            "text/markdown": "15",
            "text/latex": "15",
            "text/plain": [
              "[1] 15"
            ]
          },
          "metadata": {}
        },
        {
          "output_type": "display_data",
          "data": {
            "text/plain": [
              "Department\n",
              "                            WPD      Code Compliance Department \n",
              "                              1                               1 \n",
              "        FSD - Building Services                         Library \n",
              "                              1                               1 \n",
              "                 Transportation                        Aviation \n",
              "                              2                               3 \n",
              "Planning and Development Review       Health and Human Services \n",
              "                              3                               5 \n",
              "               Austin Fire Dept                             EMS \n",
              "                              7                              10 \n",
              "                   Public Works            Parks and Recreation \n",
              "                             16                              22 \n",
              "       Austin Resource Recovery                    Austin Water \n",
              "                             23                              24 \n",
              "       Austin Police Department                             Sum \n",
              "                             40                             159 "
            ]
          },
          "metadata": {}
        },
        {
          "output_type": "display_data",
          "data": {
            "text/plain": [
              "Plot with title “Recorded incidents\n",
              "per Department”"
            ],
            "image/png": "[encoded data removed]"
          },
          "metadata": {
            "image/png": {
              "width": 420,
              "height": 420
            }
          }
        }
      ]
    },
    {
      "cell_type": "code",
      "source": [
        "Amount <- as.numeric(substring(Amount, 2, nchar(Amount)))\n",
        "head(Amount); class(Amount)\n",
        "summary(Amount)\n",
        "\n",
        "#NA treatment\n",
        "Amount[is.na(Amount)] <- median(Amount, na.rm = TRUE)\n",
        "\n",
        "#outlier treatment\n",
        "Q3 <- unname(quantile(Amount)[4])\n",
        "outliers <- which(Amount > Q3 + 1.5 * IQR(Amount))\n",
        "for(i in 1:length(Amount[outliers])){\n",
        "  Amount[outliers][i] <- median(Amount)\n",
        "}\n",
        "\n",
        "which.max(tapply(Amount, Category, sum))\n",
        "tapply(Amount, Category, sum)[\"00 Auto\"]"
      ],
      "metadata": {
        "colab": {
          "base_uri": "https://localhost:8080/",
          "height": 121
        },
        "id": "sMBaF518CGJ_",
        "outputId": "abe06f1f-5f9a-4055-93c9-821835308162"
      },
      "execution_count": 20,
      "outputs": [
        {
          "output_type": "display_data",
          "data": {
            "text/html": [
              "<style>\n",
              ".list-inline {list-style: none; margin:0; padding: 0}\n",
              ".list-inline>li {display: inline-block}\n",
              ".list-inline>li:not(:last-child)::after {content: \"\\00b7\"; padding: 0 .5ex}\n",
              "</style>\n",
              "<ol class=list-inline><li>0</li><li>0</li><li>47.17</li><li>133.42</li><li>3663.31</li><li>65.88</li></ol>\n"
            ],
            "text/markdown": "1. 0\n2. 0\n3. 47.17\n4. 133.42\n5. 3663.31\n6. 65.88\n\n\n",
            "text/latex": "\\begin{enumerate*}\n\\item 0\n\\item 0\n\\item 47.17\n\\item 133.42\n\\item 3663.31\n\\item 65.88\n\\end{enumerate*}\n",
            "text/plain": [
              "[1]    0.00    0.00   47.17  133.42 3663.31   65.88"
            ]
          },
          "metadata": {}
        },
        {
          "output_type": "display_data",
          "data": {
            "text/html": [
              "'numeric'"
            ],
            "text/markdown": "'numeric'",
            "text/latex": "'numeric'",
            "text/plain": [
              "[1] \"numeric\""
            ]
          },
          "metadata": {}
        },
        {
          "output_type": "display_data",
          "data": {
            "text/plain": [
              "    Min.  1st Qu.   Median     Mean  3rd Qu.     Max.     NA's \n",
              "    0.00    45.72    92.53   761.28   596.84 55000.00        1 "
            ]
          },
          "metadata": {}
        },
        {
          "output_type": "display_data",
          "data": {
            "text/html": [
              "<strong>00 Auto:</strong> 1"
            ],
            "text/markdown": "**00 Auto:** 1",
            "text/latex": "\\textbf{00 Auto:} 1",
            "text/plain": [
              "00 Auto \n",
              "      1 "
            ]
          },
          "metadata": {}
        },
        {
          "output_type": "display_data",
          "data": {
            "text/html": [
              "<strong>00 Auto:</strong> 40631.86"
            ],
            "text/markdown": "**00 Auto:** 40631.86",
            "text/latex": "\\textbf{00 Auto:} 40631.86",
            "text/plain": [
              " 00 Auto \n",
              "40631.86 "
            ]
          },
          "metadata": {}
        }
      ]
    },
    {
      "cell_type": "code",
      "source": [
        "which.max(tapply(Amount, Category, mean))"
      ],
      "metadata": {
        "colab": {
          "base_uri": "https://localhost:8080/",
          "height": 34
        },
        "id": "uArtDYcvCKek",
        "outputId": "741908a3-c1e8-40d3-d6f6-788844e0bd18"
      },
      "execution_count": 21,
      "outputs": [
        {
          "output_type": "display_data",
          "data": {
            "text/html": [
              "<strong>00 Auto:</strong> 1"
            ],
            "text/markdown": "**00 Auto:** 1",
            "text/latex": "\\textbf{00 Auto:} 1",
            "text/plain": [
              "00 Auto \n",
              "      1 "
            ]
          },
          "metadata": {}
        }
      ]
    },
    {
      "cell_type": "code",
      "source": [
        "head(Claim.Name,35)\n",
        "list1 <- regmatches(Claim.Name, regexpr(\"(?<=,) +(?!Inc)[a-zA-Z]{2,30}\", Claim.Name, perl = TRUE))\n",
        "list1\n",
        "\n",
        "list1 <- regmatches(list1, regexpr(\"[a-zA-Z]{2,30}\", list1, perl = TRUE))\n",
        "list1\n",
        "\n",
        "list2 <- regmatches(Claim.Name, regexpr(\"(?<=and )[a-zA-Z]{2,30}\", Claim.Name, perl = TRUE))\n",
        "list2\n",
        "\n",
        "firstnames <- factor(c(list1, list2))\n",
        "\n",
        "nlevels(firstnames)\n",
        "which.max(table(firstnames))\n",
        "table(firstnames)[\"Jennifer\"]\n",
        "Claim.Name[grep(\"Jennifer\", Claim.Name)]\n",
        "\n",
        "detach(legal)"
      ],
      "metadata": {
        "colab": {
          "base_uri": "https://localhost:8080/",
          "height": 382
        },
        "id": "whUbMiNMCPE2",
        "outputId": "355c4a06-e80b-4783-c445-fe7e5d326fb0"
      },
      "execution_count": 22,
      "outputs": [
        {
          "output_type": "display_data",
          "data": {
            "text/html": [
              "<style>\n",
              ".list-inline {list-style: none; margin:0; padding: 0}\n",
              ".list-inline>li {display: inline-block}\n",
              ".list-inline>li:not(:last-child)::after {content: \"\\00b7\"; padding: 0 .5ex}\n",
              "</style>\n",
              "<ol class=list-inline><li>'Valdez, Michael'</li><li>'Caballero, Rosita'</li><li>'Castillo, Angela'</li><li>'Cutean, Nicki'</li><li>'Ferrovial/ Toyota Lease Trust'</li><li>'Hardwick, Andrew'</li><li>'Hardy, Ryan'</li><li>'Henna Chevrolet'</li><li>'Hertz (Hardy)'</li><li>'Kempter, Anne'</li><li>'Kenyon, Rachel'</li><li>'Lopez de Araya Bengoa, Imanol (MINOR INVOLVED)'</li><li>'Scott, Nadia'</li><li>'Aleman, Nelda'</li><li>'Blair, Jackie'</li><li>'Grays, Jessica'</li><li>'Katz, Lauren'</li><li>'Rayburn, Charles'</li><li>'USAA (Butler, Bill)'</li><li>'Allstate (Pitts)'</li><li>'AT&amp;T (150280)'</li><li>'AT&amp;T (150480)'</li><li>'Dawson, Jennifer'</li><li>'Reed Hawkins, Tam'</li><li>'Rodriguez, Gina'</li><li>'Saucedo, Blondena'</li><li>'Texas Gas (150257)'</li><li>'Seton (Brackenridge)'</li><li>'Stringer, John'</li><li>'Guo, Sue'</li><li>'Washington, Cynthia'</li><li>'Garcia, Miranda'</li><li>'Goodall, Jannette'</li><li>'Herbert, Robert'</li><li>'Martinez, Rudy'</li></ol>\n"
            ],
            "text/markdown": "1. 'Valdez, Michael'\n2. 'Caballero, Rosita'\n3. 'Castillo, Angela'\n4. 'Cutean, Nicki'\n5. 'Ferrovial/ Toyota Lease Trust'\n6. 'Hardwick, Andrew'\n7. 'Hardy, Ryan'\n8. 'Henna Chevrolet'\n9. 'Hertz (Hardy)'\n10. 'Kempter, Anne'\n11. 'Kenyon, Rachel'\n12. 'Lopez de Araya Bengoa, Imanol (MINOR INVOLVED)'\n13. 'Scott, Nadia'\n14. 'Aleman, Nelda'\n15. 'Blair, Jackie'\n16. 'Grays, Jessica'\n17. 'Katz, Lauren'\n18. 'Rayburn, Charles'\n19. 'USAA (Butler, Bill)'\n20. 'Allstate (Pitts)'\n21. 'AT&amp;T (150280)'\n22. 'AT&amp;T (150480)'\n23. 'Dawson, Jennifer'\n24. 'Reed Hawkins, Tam'\n25. 'Rodriguez, Gina'\n26. 'Saucedo, Blondena'\n27. 'Texas Gas (150257)'\n28. 'Seton (Brackenridge)'\n29. 'Stringer, John'\n30. 'Guo, Sue'\n31. 'Washington, Cynthia'\n32. 'Garcia, Miranda'\n33. 'Goodall, Jannette'\n34. 'Herbert, Robert'\n35. 'Martinez, Rudy'\n\n\n",
            "text/latex": "\\begin{enumerate*}\n\\item 'Valdez, Michael'\n\\item 'Caballero, Rosita'\n\\item 'Castillo, Angela'\n\\item 'Cutean, Nicki'\n\\item 'Ferrovial/ Toyota Lease Trust'\n\\item 'Hardwick, Andrew'\n\\item 'Hardy, Ryan'\n\\item 'Henna Chevrolet'\n\\item 'Hertz (Hardy)'\n\\item 'Kempter, Anne'\n\\item 'Kenyon, Rachel'\n\\item 'Lopez de Araya Bengoa, Imanol (MINOR INVOLVED)'\n\\item 'Scott, Nadia'\n\\item 'Aleman, Nelda'\n\\item 'Blair, Jackie'\n\\item 'Grays, Jessica'\n\\item 'Katz, Lauren'\n\\item 'Rayburn, Charles'\n\\item 'USAA (Butler, Bill)'\n\\item 'Allstate (Pitts)'\n\\item 'AT\\&T (150280)'\n\\item 'AT\\&T (150480)'\n\\item 'Dawson, Jennifer'\n\\item 'Reed Hawkins, Tam'\n\\item 'Rodriguez, Gina'\n\\item 'Saucedo, Blondena'\n\\item 'Texas Gas (150257)'\n\\item 'Seton (Brackenridge)'\n\\item 'Stringer, John'\n\\item 'Guo, Sue'\n\\item 'Washington, Cynthia'\n\\item 'Garcia, Miranda'\n\\item 'Goodall, Jannette'\n\\item 'Herbert, Robert'\n\\item 'Martinez, Rudy'\n\\end{enumerate*}\n",
            "text/plain": [
              " [1] \"Valdez, Michael\"                               \n",
              " [2] \"Caballero, Rosita\"                             \n",
              " [3] \"Castillo, Angela\"                              \n",
              " [4] \"Cutean, Nicki\"                                 \n",
              " [5] \"Ferrovial/ Toyota Lease Trust\"                 \n",
              " [6] \"Hardwick, Andrew\"                              \n",
              " [7] \"Hardy, Ryan\"                                   \n",
              " [8] \"Henna Chevrolet\"                               \n",
              " [9] \"Hertz (Hardy)\"                                 \n",
              "[10] \"Kempter, Anne\"                                 \n",
              "[11] \"Kenyon, Rachel\"                                \n",
              "[12] \"Lopez de Araya Bengoa, Imanol (MINOR INVOLVED)\"\n",
              "[13] \"Scott, Nadia\"                                  \n",
              "[14] \"Aleman, Nelda\"                                 \n",
              "[15] \"Blair, Jackie\"                                 \n",
              "[16] \"Grays, Jessica\"                                \n",
              "[17] \"Katz, Lauren\"                                  \n",
              "[18] \"Rayburn, Charles\"                              \n",
              "[19] \"USAA (Butler, Bill)\"                           \n",
              "[20] \"Allstate (Pitts)\"                              \n",
              "[21] \"AT&T (150280)\"                                 \n",
              "[22] \"AT&T (150480)\"                                 \n",
              "[23] \"Dawson, Jennifer\"                              \n",
              "[24] \"Reed Hawkins, Tam\"                             \n",
              "[25] \"Rodriguez, Gina\"                               \n",
              "[26] \"Saucedo, Blondena\"                             \n",
              "[27] \"Texas Gas (150257)\"                            \n",
              "[28] \"Seton (Brackenridge)\"                          \n",
              "[29] \"Stringer, John\"                                \n",
              "[30] \"Guo, Sue\"                                      \n",
              "[31] \"Washington, Cynthia\"                           \n",
              "[32] \"Garcia, Miranda\"                               \n",
              "[33] \"Goodall, Jannette\"                             \n",
              "[34] \"Herbert, Robert\"                               \n",
              "[35] \"Martinez, Rudy\"                                "
            ]
          },
          "metadata": {}
        },
        {
          "output_type": "display_data",
          "data": {
            "text/html": [
              "<style>\n",
              ".list-inline {list-style: none; margin:0; padding: 0}\n",
              ".list-inline>li {display: inline-block}\n",
              ".list-inline>li:not(:last-child)::after {content: \"\\00b7\"; padding: 0 .5ex}\n",
              "</style>\n",
              "<ol class=list-inline><li>' Michael'</li><li>' Rosita'</li><li>' Angela'</li><li>' Nicki'</li><li>' Andrew'</li><li>' Ryan'</li><li>' Anne'</li><li>' Rachel'</li><li>' Imanol'</li><li>' Nadia'</li><li>' Nelda'</li><li>' Jackie'</li><li>' Jessica'</li><li>' Lauren'</li><li>' Charles'</li><li>' Bill'</li><li>' Jennifer'</li><li>' Tam'</li><li>' Gina'</li><li>' Blondena'</li><li>' John'</li><li>' Sue'</li><li>' Cynthia'</li><li>' Miranda'</li><li>' Jannette'</li><li>' Robert'</li><li>' Rudy'</li><li>' Rebecca'</li><li>' Raymond'</li><li>' Laurel'</li><li>' Bob'</li><li>' Dorcas'</li><li>' Christie'</li><li>' Daniel'</li><li>' Max'</li><li>' Sapna'</li><li>' Cassandra'</li><li>' Debra'</li><li>' Brian'</li><li>' Jennifer'</li><li>' Aditya'</li><li>' Catina'</li><li>' Laura'</li><li>' Danielle'</li><li>' Katrina'</li><li>' Dylan'</li><li>' Mauricio'</li><li>' James'</li><li>' Nick'</li><li>' Mike'</li><li>' Paul'</li><li>' Jennifer'</li><li>' Raymond'</li><li>' Maureen'</li><li>' Jon'</li><li>' Gilbert'</li><li>' Lisa'</li><li>' Kristy'</li><li>' Juan'</li><li>' Eduardo'</li><li>' Anna'</li><li>' Ana'</li><li>' Maria'</li><li>' Stephanie'</li><li>' Craig'</li><li>' Nicole'</li><li>' Matthew'</li><li>' Orlando'</li><li>' Ellen'</li><li>' William'</li><li>' Robert'</li><li>' Dennis'</li><li>' Marley'</li><li>' Ronnie'</li><li>' Marissa'</li><li>' Jessica'</li><li>' Delia'</li><li>' Bonnie'</li><li>' Andre'</li><li>' Brien'</li><li>' Paula'</li><li>' Alfredo'</li><li>' Sheri'</li><li>' Jesse'</li><li>' Debra'</li><li>' Nicole'</li><li>' Husain'</li><li>' Jose'</li><li>' Mary'</li><li>' William'</li><li>' Carolina'</li><li>' Esmeralda'</li><li>' Abner'</li><li>' Gilbert'</li><li>' Jyl'</li><li>' Stacey'</li><li>' Nancy'</li><li>' Maricela'</li><li>' Alan'</li><li>' Luis'</li><li>' Bianca'</li><li>' Laura'</li><li>' Odalys'</li><li>' Patrick'</li><li>' Fernando'</li><li>' Dolores'</li><li>' Jonathan'</li><li><span style=white-space:pre-wrap>'  Sean'</span></li><li>' Matthew'</li><li>' Phillip'</li><li>' Diana'</li><li>' Pauline'</li><li>' Mike'</li><li>' Josefina'</li><li>' Eric'</li><li>' Maria'</li><li>' Jacob'</li><li>' Tim'</li><li>' Lorre'</li><li>' Frank'</li><li>' Patricia'</li><li>' Tim'</li><li>' Sean'</li></ol>\n"
            ],
            "text/markdown": "1. ' Michael'\n2. ' Rosita'\n3. ' Angela'\n4. ' Nicki'\n5. ' Andrew'\n6. ' Ryan'\n7. ' Anne'\n8. ' Rachel'\n9. ' Imanol'\n10. ' Nadia'\n11. ' Nelda'\n12. ' Jackie'\n13. ' Jessica'\n14. ' Lauren'\n15. ' Charles'\n16. ' Bill'\n17. ' Jennifer'\n18. ' Tam'\n19. ' Gina'\n20. ' Blondena'\n21. ' John'\n22. ' Sue'\n23. ' Cynthia'\n24. ' Miranda'\n25. ' Jannette'\n26. ' Robert'\n27. ' Rudy'\n28. ' Rebecca'\n29. ' Raymond'\n30. ' Laurel'\n31. ' Bob'\n32. ' Dorcas'\n33. ' Christie'\n34. ' Daniel'\n35. ' Max'\n36. ' Sapna'\n37. ' Cassandra'\n38. ' Debra'\n39. ' Brian'\n40. ' Jennifer'\n41. ' Aditya'\n42. ' Catina'\n43. ' Laura'\n44. ' Danielle'\n45. ' Katrina'\n46. ' Dylan'\n47. ' Mauricio'\n48. ' James'\n49. ' Nick'\n50. ' Mike'\n51. ' Paul'\n52. ' Jennifer'\n53. ' Raymond'\n54. ' Maureen'\n55. ' Jon'\n56. ' Gilbert'\n57. ' Lisa'\n58. ' Kristy'\n59. ' Juan'\n60. ' Eduardo'\n61. ' Anna'\n62. ' Ana'\n63. ' Maria'\n64. ' Stephanie'\n65. ' Craig'\n66. ' Nicole'\n67. ' Matthew'\n68. ' Orlando'\n69. ' Ellen'\n70. ' William'\n71. ' Robert'\n72. ' Dennis'\n73. ' Marley'\n74. ' Ronnie'\n75. ' Marissa'\n76. ' Jessica'\n77. ' Delia'\n78. ' Bonnie'\n79. ' Andre'\n80. ' Brien'\n81. ' Paula'\n82. ' Alfredo'\n83. ' Sheri'\n84. ' Jesse'\n85. ' Debra'\n86. ' Nicole'\n87. ' Husain'\n88. ' Jose'\n89. ' Mary'\n90. ' William'\n91. ' Carolina'\n92. ' Esmeralda'\n93. ' Abner'\n94. ' Gilbert'\n95. ' Jyl'\n96. ' Stacey'\n97. ' Nancy'\n98. ' Maricela'\n99. ' Alan'\n100. ' Luis'\n101. ' Bianca'\n102. ' Laura'\n103. ' Odalys'\n104. ' Patrick'\n105. ' Fernando'\n106. ' Dolores'\n107. ' Jonathan'\n108. <span style=white-space:pre-wrap>'  Sean'</span>\n109. ' Matthew'\n110. ' Phillip'\n111. ' Diana'\n112. ' Pauline'\n113. ' Mike'\n114. ' Josefina'\n115. ' Eric'\n116. ' Maria'\n117. ' Jacob'\n118. ' Tim'\n119. ' Lorre'\n120. ' Frank'\n121. ' Patricia'\n122. ' Tim'\n123. ' Sean'\n\n\n",
            "text/latex": "\\begin{enumerate*}\n\\item ' Michael'\n\\item ' Rosita'\n\\item ' Angela'\n\\item ' Nicki'\n\\item ' Andrew'\n\\item ' Ryan'\n\\item ' Anne'\n\\item ' Rachel'\n\\item ' Imanol'\n\\item ' Nadia'\n\\item ' Nelda'\n\\item ' Jackie'\n\\item ' Jessica'\n\\item ' Lauren'\n\\item ' Charles'\n\\item ' Bill'\n\\item ' Jennifer'\n\\item ' Tam'\n\\item ' Gina'\n\\item ' Blondena'\n\\item ' John'\n\\item ' Sue'\n\\item ' Cynthia'\n\\item ' Miranda'\n\\item ' Jannette'\n\\item ' Robert'\n\\item ' Rudy'\n\\item ' Rebecca'\n\\item ' Raymond'\n\\item ' Laurel'\n\\item ' Bob'\n\\item ' Dorcas'\n\\item ' Christie'\n\\item ' Daniel'\n\\item ' Max'\n\\item ' Sapna'\n\\item ' Cassandra'\n\\item ' Debra'\n\\item ' Brian'\n\\item ' Jennifer'\n\\item ' Aditya'\n\\item ' Catina'\n\\item ' Laura'\n\\item ' Danielle'\n\\item ' Katrina'\n\\item ' Dylan'\n\\item ' Mauricio'\n\\item ' James'\n\\item ' Nick'\n\\item ' Mike'\n\\item ' Paul'\n\\item ' Jennifer'\n\\item ' Raymond'\n\\item ' Maureen'\n\\item ' Jon'\n\\item ' Gilbert'\n\\item ' Lisa'\n\\item ' Kristy'\n\\item ' Juan'\n\\item ' Eduardo'\n\\item ' Anna'\n\\item ' Ana'\n\\item ' Maria'\n\\item ' Stephanie'\n\\item ' Craig'\n\\item ' Nicole'\n\\item ' Matthew'\n\\item ' Orlando'\n\\item ' Ellen'\n\\item ' William'\n\\item ' Robert'\n\\item ' Dennis'\n\\item ' Marley'\n\\item ' Ronnie'\n\\item ' Marissa'\n\\item ' Jessica'\n\\item ' Delia'\n\\item ' Bonnie'\n\\item ' Andre'\n\\item ' Brien'\n\\item ' Paula'\n\\item ' Alfredo'\n\\item ' Sheri'\n\\item ' Jesse'\n\\item ' Debra'\n\\item ' Nicole'\n\\item ' Husain'\n\\item ' Jose'\n\\item ' Mary'\n\\item ' William'\n\\item ' Carolina'\n\\item ' Esmeralda'\n\\item ' Abner'\n\\item ' Gilbert'\n\\item ' Jyl'\n\\item ' Stacey'\n\\item ' Nancy'\n\\item ' Maricela'\n\\item ' Alan'\n\\item ' Luis'\n\\item ' Bianca'\n\\item ' Laura'\n\\item ' Odalys'\n\\item ' Patrick'\n\\item ' Fernando'\n\\item ' Dolores'\n\\item ' Jonathan'\n\\item '  Sean'\n\\item ' Matthew'\n\\item ' Phillip'\n\\item ' Diana'\n\\item ' Pauline'\n\\item ' Mike'\n\\item ' Josefina'\n\\item ' Eric'\n\\item ' Maria'\n\\item ' Jacob'\n\\item ' Tim'\n\\item ' Lorre'\n\\item ' Frank'\n\\item ' Patricia'\n\\item ' Tim'\n\\item ' Sean'\n\\end{enumerate*}\n",
            "text/plain": [
              "  [1] \" Michael\"   \" Rosita\"    \" Angela\"    \" Nicki\"     \" Andrew\"   \n",
              "  [6] \" Ryan\"      \" Anne\"      \" Rachel\"    \" Imanol\"    \" Nadia\"    \n",
              " [11] \" Nelda\"     \" Jackie\"    \" Jessica\"   \" Lauren\"    \" Charles\"  \n",
              " [16] \" Bill\"      \" Jennifer\"  \" Tam\"       \" Gina\"      \" Blondena\" \n",
              " [21] \" John\"      \" Sue\"       \" Cynthia\"   \" Miranda\"   \" Jannette\" \n",
              " [26] \" Robert\"    \" Rudy\"      \" Rebecca\"   \" Raymond\"   \" Laurel\"   \n",
              " [31] \" Bob\"       \" Dorcas\"    \" Christie\"  \" Daniel\"    \" Max\"      \n",
              " [36] \" Sapna\"     \" Cassandra\" \" Debra\"     \" Brian\"     \" Jennifer\" \n",
              " [41] \" Aditya\"    \" Catina\"    \" Laura\"     \" Danielle\"  \" Katrina\"  \n",
              " [46] \" Dylan\"     \" Mauricio\"  \" James\"     \" Nick\"      \" Mike\"     \n",
              " [51] \" Paul\"      \" Jennifer\"  \" Raymond\"   \" Maureen\"   \" Jon\"      \n",
              " [56] \" Gilbert\"   \" Lisa\"      \" Kristy\"    \" Juan\"      \" Eduardo\"  \n",
              " [61] \" Anna\"      \" Ana\"       \" Maria\"     \" Stephanie\" \" Craig\"    \n",
              " [66] \" Nicole\"    \" Matthew\"   \" Orlando\"   \" Ellen\"     \" William\"  \n",
              " [71] \" Robert\"    \" Dennis\"    \" Marley\"    \" Ronnie\"    \" Marissa\"  \n",
              " [76] \" Jessica\"   \" Delia\"     \" Bonnie\"    \" Andre\"     \" Brien\"    \n",
              " [81] \" Paula\"     \" Alfredo\"   \" Sheri\"     \" Jesse\"     \" Debra\"    \n",
              " [86] \" Nicole\"    \" Husain\"    \" Jose\"      \" Mary\"      \" William\"  \n",
              " [91] \" Carolina\"  \" Esmeralda\" \" Abner\"     \" Gilbert\"   \" Jyl\"      \n",
              " [96] \" Stacey\"    \" Nancy\"     \" Maricela\"  \" Alan\"      \" Luis\"     \n",
              "[101] \" Bianca\"    \" Laura\"     \" Odalys\"    \" Patrick\"   \" Fernando\" \n",
              "[106] \" Dolores\"   \" Jonathan\"  \"  Sean\"     \" Matthew\"   \" Phillip\"  \n",
              "[111] \" Diana\"     \" Pauline\"   \" Mike\"      \" Josefina\"  \" Eric\"     \n",
              "[116] \" Maria\"     \" Jacob\"     \" Tim\"       \" Lorre\"     \" Frank\"    \n",
              "[121] \" Patricia\"  \" Tim\"       \" Sean\"     "
            ]
          },
          "metadata": {}
        },
        {
          "output_type": "display_data",
          "data": {
            "text/html": [
              "<style>\n",
              ".list-inline {list-style: none; margin:0; padding: 0}\n",
              ".list-inline>li {display: inline-block}\n",
              ".list-inline>li:not(:last-child)::after {content: \"\\00b7\"; padding: 0 .5ex}\n",
              "</style>\n",
              "<ol class=list-inline><li>'Michael'</li><li>'Rosita'</li><li>'Angela'</li><li>'Nicki'</li><li>'Andrew'</li><li>'Ryan'</li><li>'Anne'</li><li>'Rachel'</li><li>'Imanol'</li><li>'Nadia'</li><li>'Nelda'</li><li>'Jackie'</li><li>'Jessica'</li><li>'Lauren'</li><li>'Charles'</li><li>'Bill'</li><li>'Jennifer'</li><li>'Tam'</li><li>'Gina'</li><li>'Blondena'</li><li>'John'</li><li>'Sue'</li><li>'Cynthia'</li><li>'Miranda'</li><li>'Jannette'</li><li>'Robert'</li><li>'Rudy'</li><li>'Rebecca'</li><li>'Raymond'</li><li>'Laurel'</li><li>'Bob'</li><li>'Dorcas'</li><li>'Christie'</li><li>'Daniel'</li><li>'Max'</li><li>'Sapna'</li><li>'Cassandra'</li><li>'Debra'</li><li>'Brian'</li><li>'Jennifer'</li><li>'Aditya'</li><li>'Catina'</li><li>'Laura'</li><li>'Danielle'</li><li>'Katrina'</li><li>'Dylan'</li><li>'Mauricio'</li><li>'James'</li><li>'Nick'</li><li>'Mike'</li><li>'Paul'</li><li>'Jennifer'</li><li>'Raymond'</li><li>'Maureen'</li><li>'Jon'</li><li>'Gilbert'</li><li>'Lisa'</li><li>'Kristy'</li><li>'Juan'</li><li>'Eduardo'</li><li>'Anna'</li><li>'Ana'</li><li>'Maria'</li><li>'Stephanie'</li><li>'Craig'</li><li>'Nicole'</li><li>'Matthew'</li><li>'Orlando'</li><li>'Ellen'</li><li>'William'</li><li>'Robert'</li><li>'Dennis'</li><li>'Marley'</li><li>'Ronnie'</li><li>'Marissa'</li><li>'Jessica'</li><li>'Delia'</li><li>'Bonnie'</li><li>'Andre'</li><li>'Brien'</li><li>'Paula'</li><li>'Alfredo'</li><li>'Sheri'</li><li>'Jesse'</li><li>'Debra'</li><li>'Nicole'</li><li>'Husain'</li><li>'Jose'</li><li>'Mary'</li><li>'William'</li><li>'Carolina'</li><li>'Esmeralda'</li><li>'Abner'</li><li>'Gilbert'</li><li>'Jyl'</li><li>'Stacey'</li><li>'Nancy'</li><li>'Maricela'</li><li>'Alan'</li><li>'Luis'</li><li>'Bianca'</li><li>'Laura'</li><li>'Odalys'</li><li>'Patrick'</li><li>'Fernando'</li><li>'Dolores'</li><li>'Jonathan'</li><li>'Sean'</li><li>'Matthew'</li><li>'Phillip'</li><li>'Diana'</li><li>'Pauline'</li><li>'Mike'</li><li>'Josefina'</li><li>'Eric'</li><li>'Maria'</li><li>'Jacob'</li><li>'Tim'</li><li>'Lorre'</li><li>'Frank'</li><li>'Patricia'</li><li>'Tim'</li><li>'Sean'</li></ol>\n"
            ],
            "text/markdown": "1. 'Michael'\n2. 'Rosita'\n3. 'Angela'\n4. 'Nicki'\n5. 'Andrew'\n6. 'Ryan'\n7. 'Anne'\n8. 'Rachel'\n9. 'Imanol'\n10. 'Nadia'\n11. 'Nelda'\n12. 'Jackie'\n13. 'Jessica'\n14. 'Lauren'\n15. 'Charles'\n16. 'Bill'\n17. 'Jennifer'\n18. 'Tam'\n19. 'Gina'\n20. 'Blondena'\n21. 'John'\n22. 'Sue'\n23. 'Cynthia'\n24. 'Miranda'\n25. 'Jannette'\n26. 'Robert'\n27. 'Rudy'\n28. 'Rebecca'\n29. 'Raymond'\n30. 'Laurel'\n31. 'Bob'\n32. 'Dorcas'\n33. 'Christie'\n34. 'Daniel'\n35. 'Max'\n36. 'Sapna'\n37. 'Cassandra'\n38. 'Debra'\n39. 'Brian'\n40. 'Jennifer'\n41. 'Aditya'\n42. 'Catina'\n43. 'Laura'\n44. 'Danielle'\n45. 'Katrina'\n46. 'Dylan'\n47. 'Mauricio'\n48. 'James'\n49. 'Nick'\n50. 'Mike'\n51. 'Paul'\n52. 'Jennifer'\n53. 'Raymond'\n54. 'Maureen'\n55. 'Jon'\n56. 'Gilbert'\n57. 'Lisa'\n58. 'Kristy'\n59. 'Juan'\n60. 'Eduardo'\n61. 'Anna'\n62. 'Ana'\n63. 'Maria'\n64. 'Stephanie'\n65. 'Craig'\n66. 'Nicole'\n67. 'Matthew'\n68. 'Orlando'\n69. 'Ellen'\n70. 'William'\n71. 'Robert'\n72. 'Dennis'\n73. 'Marley'\n74. 'Ronnie'\n75. 'Marissa'\n76. 'Jessica'\n77. 'Delia'\n78. 'Bonnie'\n79. 'Andre'\n80. 'Brien'\n81. 'Paula'\n82. 'Alfredo'\n83. 'Sheri'\n84. 'Jesse'\n85. 'Debra'\n86. 'Nicole'\n87. 'Husain'\n88. 'Jose'\n89. 'Mary'\n90. 'William'\n91. 'Carolina'\n92. 'Esmeralda'\n93. 'Abner'\n94. 'Gilbert'\n95. 'Jyl'\n96. 'Stacey'\n97. 'Nancy'\n98. 'Maricela'\n99. 'Alan'\n100. 'Luis'\n101. 'Bianca'\n102. 'Laura'\n103. 'Odalys'\n104. 'Patrick'\n105. 'Fernando'\n106. 'Dolores'\n107. 'Jonathan'\n108. 'Sean'\n109. 'Matthew'\n110. 'Phillip'\n111. 'Diana'\n112. 'Pauline'\n113. 'Mike'\n114. 'Josefina'\n115. 'Eric'\n116. 'Maria'\n117. 'Jacob'\n118. 'Tim'\n119. 'Lorre'\n120. 'Frank'\n121. 'Patricia'\n122. 'Tim'\n123. 'Sean'\n\n\n",
            "text/latex": "\\begin{enumerate*}\n\\item 'Michael'\n\\item 'Rosita'\n\\item 'Angela'\n\\item 'Nicki'\n\\item 'Andrew'\n\\item 'Ryan'\n\\item 'Anne'\n\\item 'Rachel'\n\\item 'Imanol'\n\\item 'Nadia'\n\\item 'Nelda'\n\\item 'Jackie'\n\\item 'Jessica'\n\\item 'Lauren'\n\\item 'Charles'\n\\item 'Bill'\n\\item 'Jennifer'\n\\item 'Tam'\n\\item 'Gina'\n\\item 'Blondena'\n\\item 'John'\n\\item 'Sue'\n\\item 'Cynthia'\n\\item 'Miranda'\n\\item 'Jannette'\n\\item 'Robert'\n\\item 'Rudy'\n\\item 'Rebecca'\n\\item 'Raymond'\n\\item 'Laurel'\n\\item 'Bob'\n\\item 'Dorcas'\n\\item 'Christie'\n\\item 'Daniel'\n\\item 'Max'\n\\item 'Sapna'\n\\item 'Cassandra'\n\\item 'Debra'\n\\item 'Brian'\n\\item 'Jennifer'\n\\item 'Aditya'\n\\item 'Catina'\n\\item 'Laura'\n\\item 'Danielle'\n\\item 'Katrina'\n\\item 'Dylan'\n\\item 'Mauricio'\n\\item 'James'\n\\item 'Nick'\n\\item 'Mike'\n\\item 'Paul'\n\\item 'Jennifer'\n\\item 'Raymond'\n\\item 'Maureen'\n\\item 'Jon'\n\\item 'Gilbert'\n\\item 'Lisa'\n\\item 'Kristy'\n\\item 'Juan'\n\\item 'Eduardo'\n\\item 'Anna'\n\\item 'Ana'\n\\item 'Maria'\n\\item 'Stephanie'\n\\item 'Craig'\n\\item 'Nicole'\n\\item 'Matthew'\n\\item 'Orlando'\n\\item 'Ellen'\n\\item 'William'\n\\item 'Robert'\n\\item 'Dennis'\n\\item 'Marley'\n\\item 'Ronnie'\n\\item 'Marissa'\n\\item 'Jessica'\n\\item 'Delia'\n\\item 'Bonnie'\n\\item 'Andre'\n\\item 'Brien'\n\\item 'Paula'\n\\item 'Alfredo'\n\\item 'Sheri'\n\\item 'Jesse'\n\\item 'Debra'\n\\item 'Nicole'\n\\item 'Husain'\n\\item 'Jose'\n\\item 'Mary'\n\\item 'William'\n\\item 'Carolina'\n\\item 'Esmeralda'\n\\item 'Abner'\n\\item 'Gilbert'\n\\item 'Jyl'\n\\item 'Stacey'\n\\item 'Nancy'\n\\item 'Maricela'\n\\item 'Alan'\n\\item 'Luis'\n\\item 'Bianca'\n\\item 'Laura'\n\\item 'Odalys'\n\\item 'Patrick'\n\\item 'Fernando'\n\\item 'Dolores'\n\\item 'Jonathan'\n\\item 'Sean'\n\\item 'Matthew'\n\\item 'Phillip'\n\\item 'Diana'\n\\item 'Pauline'\n\\item 'Mike'\n\\item 'Josefina'\n\\item 'Eric'\n\\item 'Maria'\n\\item 'Jacob'\n\\item 'Tim'\n\\item 'Lorre'\n\\item 'Frank'\n\\item 'Patricia'\n\\item 'Tim'\n\\item 'Sean'\n\\end{enumerate*}\n",
            "text/plain": [
              "  [1] \"Michael\"   \"Rosita\"    \"Angela\"    \"Nicki\"     \"Andrew\"    \"Ryan\"     \n",
              "  [7] \"Anne\"      \"Rachel\"    \"Imanol\"    \"Nadia\"     \"Nelda\"     \"Jackie\"   \n",
              " [13] \"Jessica\"   \"Lauren\"    \"Charles\"   \"Bill\"      \"Jennifer\"  \"Tam\"      \n",
              " [19] \"Gina\"      \"Blondena\"  \"John\"      \"Sue\"       \"Cynthia\"   \"Miranda\"  \n",
              " [25] \"Jannette\"  \"Robert\"    \"Rudy\"      \"Rebecca\"   \"Raymond\"   \"Laurel\"   \n",
              " [31] \"Bob\"       \"Dorcas\"    \"Christie\"  \"Daniel\"    \"Max\"       \"Sapna\"    \n",
              " [37] \"Cassandra\" \"Debra\"     \"Brian\"     \"Jennifer\"  \"Aditya\"    \"Catina\"   \n",
              " [43] \"Laura\"     \"Danielle\"  \"Katrina\"   \"Dylan\"     \"Mauricio\"  \"James\"    \n",
              " [49] \"Nick\"      \"Mike\"      \"Paul\"      \"Jennifer\"  \"Raymond\"   \"Maureen\"  \n",
              " [55] \"Jon\"       \"Gilbert\"   \"Lisa\"      \"Kristy\"    \"Juan\"      \"Eduardo\"  \n",
              " [61] \"Anna\"      \"Ana\"       \"Maria\"     \"Stephanie\" \"Craig\"     \"Nicole\"   \n",
              " [67] \"Matthew\"   \"Orlando\"   \"Ellen\"     \"William\"   \"Robert\"    \"Dennis\"   \n",
              " [73] \"Marley\"    \"Ronnie\"    \"Marissa\"   \"Jessica\"   \"Delia\"     \"Bonnie\"   \n",
              " [79] \"Andre\"     \"Brien\"     \"Paula\"     \"Alfredo\"   \"Sheri\"     \"Jesse\"    \n",
              " [85] \"Debra\"     \"Nicole\"    \"Husain\"    \"Jose\"      \"Mary\"      \"William\"  \n",
              " [91] \"Carolina\"  \"Esmeralda\" \"Abner\"     \"Gilbert\"   \"Jyl\"       \"Stacey\"   \n",
              " [97] \"Nancy\"     \"Maricela\"  \"Alan\"      \"Luis\"      \"Bianca\"    \"Laura\"    \n",
              "[103] \"Odalys\"    \"Patrick\"   \"Fernando\"  \"Dolores\"   \"Jonathan\"  \"Sean\"     \n",
              "[109] \"Matthew\"   \"Phillip\"   \"Diana\"     \"Pauline\"   \"Mike\"      \"Josefina\" \n",
              "[115] \"Eric\"      \"Maria\"     \"Jacob\"     \"Tim\"       \"Lorre\"     \"Frank\"    \n",
              "[121] \"Patricia\"  \"Tim\"       \"Sean\"     "
            ]
          },
          "metadata": {}
        },
        {
          "output_type": "display_data",
          "data": {
            "text/html": [
              "<style>\n",
              ".list-inline {list-style: none; margin:0; padding: 0}\n",
              ".list-inline>li {display: inline-block}\n",
              ".list-inline>li:not(:last-child)::after {content: \"\\00b7\"; padding: 0 .5ex}\n",
              "</style>\n",
              "<ol class=list-inline><li>'Marilu'</li><li>'Maximino'</li></ol>\n"
            ],
            "text/markdown": "1. 'Marilu'\n2. 'Maximino'\n\n\n",
            "text/latex": "\\begin{enumerate*}\n\\item 'Marilu'\n\\item 'Maximino'\n\\end{enumerate*}\n",
            "text/plain": [
              "[1] \"Marilu\"   \"Maximino\""
            ]
          },
          "metadata": {}
        },
        {
          "output_type": "display_data",
          "data": {
            "text/html": [
              "110"
            ],
            "text/markdown": "110",
            "text/latex": "110",
            "text/plain": [
              "[1] 110"
            ]
          },
          "metadata": {}
        },
        {
          "output_type": "display_data",
          "data": {
            "text/html": [
              "<strong>Jennifer:</strong> 48"
            ],
            "text/markdown": "**Jennifer:** 48",
            "text/latex": "\\textbf{Jennifer:} 48",
            "text/plain": [
              "Jennifer \n",
              "      48 "
            ]
          },
          "metadata": {}
        },
        {
          "output_type": "display_data",
          "data": {
            "text/html": [
              "<strong>Jennifer:</strong> 3"
            ],
            "text/markdown": "**Jennifer:** 3",
            "text/latex": "\\textbf{Jennifer:} 3",
            "text/plain": [
              "Jennifer \n",
              "       3 "
            ]
          },
          "metadata": {}
        },
        {
          "output_type": "display_data",
          "data": {
            "text/html": [
              "<style>\n",
              ".list-inline {list-style: none; margin:0; padding: 0}\n",
              ".list-inline>li {display: inline-block}\n",
              ".list-inline>li:not(:last-child)::after {content: \"\\00b7\"; padding: 0 .5ex}\n",
              "</style>\n",
              "<ol class=list-inline><li>'Dawson, Jennifer'</li><li>'Burrough, Jennifer'</li><li>'Liu, Jennifer'</li></ol>\n"
            ],
            "text/markdown": "1. 'Dawson, Jennifer'\n2. 'Burrough, Jennifer'\n3. 'Liu, Jennifer'\n\n\n",
            "text/latex": "\\begin{enumerate*}\n\\item 'Dawson, Jennifer'\n\\item 'Burrough, Jennifer'\n\\item 'Liu, Jennifer'\n\\end{enumerate*}\n",
            "text/plain": [
              "[1] \"Dawson, Jennifer\"   \"Burrough, Jennifer\" \"Liu, Jennifer\"     "
            ]
          },
          "metadata": {}
        }
      ]
    }
  ]
}